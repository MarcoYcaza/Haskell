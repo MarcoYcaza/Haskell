{
 "cells": [
  {
   "cell_type": "code",
   "execution_count": 20,
   "metadata": {},
   "outputs": [],
   "source": [
    "import genanki\n",
    "import random\n",
    "random.seed()\n"
   ]
  },
  {
   "cell_type": "code",
   "execution_count": 41,
   "metadata": {},
   "outputs": [],
   "source": [
    "my_model = genanki.Model(\n",
    "  1607392319,\n",
    "  'Problem Statement',\n",
    "  fields=[{'name': 'Problem'}],\n",
    "  templates=[\n",
    "    {\n",
    "      'name': 'Card',\n",
    "      'qfmt': '{{Problem}}',\n",
    "      'afmt': '{{FrontSide}}<hr id=\"answer\">',\n",
    "    },\n",
    "  ])"
   ]
  },
  {
   "cell_type": "code",
   "execution_count": 22,
   "metadata": {},
   "outputs": [],
   "source": [
    "#random.randrange(1 << 30, 1 << 31)"
   ]
  },
  {
   "cell_type": "code",
   "execution_count": 39,
   "metadata": {},
   "outputs": [],
   "source": [
    "question_list = []\n",
    "#----------------------------------------------------------------------------------------------------------\n",
    "\n",
    "x = str(random.randint(0, 10))\n",
    "y = str(random.randint(0, int(x)))\n",
    "lista_random = str([random.randint(0, 10) for x in range(random.randint(0, 10))])\n",
    "q1 = \"What is the output of : [ \"+ x +\"*x | x <- \"+ lista_random +\", x > \"+y+\" ] \"\n",
    "\n",
    "question_list.append(q1)\n",
    "#----------------------------------------------------------------------------------------------------------\n",
    "x = str(random.randint(0, 10))\n",
    "y = str(random.randint(0, int(x)))\n",
    "lista_random = str([random.randint(0, 10) for x in range(random.randint(0, 10))])\n",
    "\n",
    "q2 = \"What is the output of : let a = [ \"+ x +\"*x | x <- \"+ lista_random +\"] in ( elem \"+str(int(x)*int(y))+\" a) \"\n",
    "\n",
    "question_list.append(q2)\n",
    "#----------------------------------------------------------------------------------------------------------\n",
    "\n",
    "x = str(random.randint(0, 10))\n",
    "y = str(random.randint(0, int(x)))\n",
    "lista_random2 = str([(random.randint(0, 10),random.randint(0, 10)) for x in range(random.randint(0, 10))])\n",
    "\n",
    "operador=[\">\",\"<\",\">=\",\"<=\",\"/=\",\"==\"][random.randint(0,5)]\n",
    "\n",
    "op2 = [\"(n,m)\",\"(m,n)\",\"(m,m)\",\"(n,n)\",\"(\"+x+\"*m,n*\"+y+\")\",\"(\"+x+\"*n,m*\"+y+\")\"]\n",
    "\n",
    "op2 = op2[random.randint(0,len(op2)-1)]\n",
    "\n",
    "q3 = \"What is the output of : [\"+op2+\"|(m,n) <-\"+ lista_random2 +\" , n\" +operador+\" \"+x + \"]\"\n",
    "\n",
    "question_list.append(q3)\n",
    "#----------------------------------------------------------------------------------------------------------\n",
    "\n",
    "x = str(random.randint(1, 5))\n",
    "y = str(random.randint(0, int(x)))\n",
    "\n",
    "op=[\">\",\">=\",\"/=\",\"==\"][random.randint(0,3)]\n",
    "\n",
    "\n",
    "lista_random = str([random.randint(0, 10) for x in range(random.randint(0, 10))])\n",
    "\n",
    "q4 = \"let xs'=[n*\"+x+\" |n<- xs, (n `mod` \"+y+\") \"+op+\" 0 ] in [ xs' | n <- xs, (n `mod` \"+x+\") \"+op+\" 0]\"\n",
    "\n",
    "q4 = \"Say xs =\"+lista_random+\",determine the output \"+q4\n",
    "\n",
    "question_list.append(q4)\n",
    "#----------------------------------------------------------------------------------------------------------"
   ]
  },
  {
   "cell_type": "code",
   "execution_count": 40,
   "metadata": {},
   "outputs": [
    {
     "name": "stdout",
     "output_type": "stream",
     "text": [
      "What is the output of : [ 9*x | x <- [0, 4], x > 1 ] \n",
      "What is the output of : let a = [ 9*x | x <- [8, 6]] in ( elem 54 a) \n",
      "What is the output of : [(n,m)|(m,n) <-[(7, 1), (7, 2), (3, 4)] , n<= 6]\n",
      "Say xs =[8, 7, 7, 3, 4],determine the output let xs'=[n*3 |n<- xs, (n `mod` 3) /= 0 ] in [ xs' | n <- xs, (n `mod` 3) /= 0]\n"
     ]
    },
    {
     "data": {
      "text/plain": [
       "[None, None, None, None]"
      ]
     },
     "execution_count": 40,
     "metadata": {},
     "output_type": "execute_result"
    }
   ],
   "source": [
    "[print(i) for i in question_list]"
   ]
  },
  {
   "cell_type": "code",
   "execution_count": 45,
   "metadata": {},
   "outputs": [],
   "source": [
    "my_deck = genanki.Deck(2059600110,r'Haskell Questions Automated')\n",
    "for e in question_list:    \n",
    "    my_note = genanki.Note(model=my_model,fields=[str(e)])\n",
    "    my_deck.add_note(my_note)\n",
    "\n",
    "genanki.Package(my_deck).write_to_file('HaskellProblems.apkg')"
   ]
  },
  {
   "cell_type": "code",
   "execution_count": null,
   "metadata": {},
   "outputs": [],
   "source": []
  },
  {
   "cell_type": "code",
   "execution_count": null,
   "metadata": {},
   "outputs": [],
   "source": []
  },
  {
   "cell_type": "code",
   "execution_count": null,
   "metadata": {},
   "outputs": [],
   "source": []
  },
  {
   "cell_type": "code",
   "execution_count": 46,
   "metadata": {},
   "outputs": [
    {
     "data": {
      "text/plain": [
       "1196371601"
      ]
     },
     "execution_count": 46,
     "metadata": {},
     "output_type": "execute_result"
    }
   ],
   "source": [
    "random.randrange(1 << 30, 1 << 31)"
   ]
  },
  {
   "cell_type": "code",
   "execution_count": null,
   "metadata": {},
   "outputs": [],
   "source": []
  }
 ],
 "metadata": {
  "kernelspec": {
   "display_name": "Python 3",
   "language": "python",
   "name": "python3"
  },
  "language_info": {
   "codemirror_mode": {
    "name": "ipython",
    "version": 3
   },
   "file_extension": ".py",
   "mimetype": "text/x-python",
   "name": "python",
   "nbconvert_exporter": "python",
   "pygments_lexer": "ipython3",
   "version": "3.8.2"
  }
 },
 "nbformat": 4,
 "nbformat_minor": 4
}
